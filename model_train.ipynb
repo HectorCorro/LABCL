{
 "cells": [
  {
   "cell_type": "code",
   "execution_count": 1,
   "metadata": {},
   "outputs": [],
   "source": [
    "import pandas as pd\n",
    "import numpy as np\n",
    "import matplotlib.pyplot as plt # type: ignore\n",
    "import seaborn as sns # type: ignore"
   ]
  },
  {
   "cell_type": "markdown",
   "metadata": {},
   "source": [
    "### Importando Datos"
   ]
  },
  {
   "cell_type": "code",
   "execution_count": 2,
   "metadata": {},
   "outputs": [
    {
     "name": "stderr",
     "output_type": "stream",
     "text": [
      "/var/folders/sx/53qsrth94qs34_k0n9s4w_mh0000gn/T/ipykernel_42311/4187072533.py:1: DtypeWarning: Columns (8) have mixed types. Specify dtype option on import or set low_memory=False.\n",
      "  data_train = pd.read_csv('Data/train_set.csv')\n",
      "/var/folders/sx/53qsrth94qs34_k0n9s4w_mh0000gn/T/ipykernel_42311/4187072533.py:2: DtypeWarning: Columns (8) have mixed types. Specify dtype option on import or set low_memory=False.\n",
      "  data_test = pd.read_csv('Data/test_set.csv')\n"
     ]
    }
   ],
   "source": [
    "data_train = pd.read_csv('Data/train_set.csv')\n",
    "data_test = pd.read_csv('Data/test_set.csv')"
   ]
  },
  {
   "cell_type": "code",
   "execution_count": 3,
   "metadata": {},
   "outputs": [
    {
     "data": {
      "text/plain": [
       "(700000, 14)"
      ]
     },
     "execution_count": 3,
     "metadata": {},
     "output_type": "execute_result"
    }
   ],
   "source": [
    "data_train.shape"
   ]
  },
  {
   "cell_type": "code",
   "execution_count": 4,
   "metadata": {},
   "outputs": [
    {
     "data": {
      "text/plain": [
       "Index(['trip_id', 'duration', 'start_time', 'end_time', 'start_lat',\n",
       "       'start_lon', 'end_lat', 'end_lon', 'bike_id', 'plan_duration',\n",
       "       'trip_route_category', 'passholder_type', 'start_station',\n",
       "       'end_station'],\n",
       "      dtype='object')"
      ]
     },
     "execution_count": 4,
     "metadata": {},
     "output_type": "execute_result"
    }
   ],
   "source": [
    "data_train.columns"
   ]
  },
  {
   "cell_type": "code",
   "execution_count": 5,
   "metadata": {},
   "outputs": [
    {
     "data": {
      "text/plain": [
       "(569886, 12)"
      ]
     },
     "execution_count": 5,
     "metadata": {},
     "output_type": "execute_result"
    }
   ],
   "source": [
    "data_test.shape"
   ]
  },
  {
   "cell_type": "code",
   "execution_count": 6,
   "metadata": {},
   "outputs": [
    {
     "data": {
      "text/plain": [
       "Index(['trip_id', 'duration', 'start_time', 'end_time', 'start_lat',\n",
       "       'start_lon', 'end_lat', 'end_lon', 'bike_id', 'trip_route_category',\n",
       "       'start_station', 'end_station'],\n",
       "      dtype='object')"
      ]
     },
     "execution_count": 6,
     "metadata": {},
     "output_type": "execute_result"
    }
   ],
   "source": [
    "data_test.columns"
   ]
  },
  {
   "cell_type": "markdown",
   "metadata": {},
   "source": [
    "### Limpiando datos"
   ]
  },
  {
   "cell_type": "code",
   "execution_count": 7,
   "metadata": {},
   "outputs": [
    {
     "data": {
      "text/plain": [
       "trip_id                    0\n",
       "duration                   0\n",
       "start_time                 0\n",
       "end_time                   0\n",
       "start_lat               5563\n",
       "start_lon               5563\n",
       "end_lat                18574\n",
       "end_lon                18574\n",
       "bike_id                    0\n",
       "plan_duration            208\n",
       "trip_route_category        0\n",
       "passholder_type         2576\n",
       "start_station              0\n",
       "end_station                0\n",
       "dtype: int64"
      ]
     },
     "execution_count": 7,
     "metadata": {},
     "output_type": "execute_result"
    }
   ],
   "source": [
    "data_train.isna().sum()"
   ]
  },
  {
   "cell_type": "code",
   "execution_count": 8,
   "metadata": {},
   "outputs": [
    {
     "data": {
      "text/plain": [
       "trip_id                    0\n",
       "duration                   0\n",
       "start_time                 0\n",
       "end_time                   0\n",
       "start_lat               4622\n",
       "start_lon               4622\n",
       "end_lat                14891\n",
       "end_lon                14891\n",
       "bike_id                    0\n",
       "trip_route_category        0\n",
       "start_station              0\n",
       "end_station                0\n",
       "dtype: int64"
      ]
     },
     "execution_count": 8,
     "metadata": {},
     "output_type": "execute_result"
    }
   ],
   "source": [
    "data_test.isna().sum()"
   ]
  },
  {
   "cell_type": "markdown",
   "metadata": {},
   "source": [
    "### Transformar las columas fecha"
   ]
  },
  {
   "cell_type": "code",
   "execution_count": 9,
   "metadata": {},
   "outputs": [],
   "source": [
    "def parse_dates(date):\n",
    "    try:\n",
    "        return pd.to_datetime(date, format='%Y-%m-%d %H:%M:%S')\n",
    "    except ValueError:\n",
    "        try:\n",
    "            return pd.to_datetime(date, format='%m/%d/%Y %H:%M')\n",
    "        except ValueError:\n",
    "            return pd.NaT"
   ]
  },
  {
   "cell_type": "code",
   "execution_count": 10,
   "metadata": {},
   "outputs": [],
   "source": [
    "data_train['start_time'] = data_train['start_time'].apply(parse_dates)\n",
    "data_train['end_time'] = data_train['end_time'].apply(parse_dates)\n",
    "data_test['start_time'] = data_test['start_time'].apply(parse_dates)\n",
    "data_test['end_time'] = data_test['end_time'].apply(parse_dates)"
   ]
  },
  {
   "cell_type": "markdown",
   "metadata": {},
   "source": [
    "### Limpiando el dataset"
   ]
  },
  {
   "cell_type": "code",
   "execution_count": 11,
   "metadata": {},
   "outputs": [],
   "source": [
    "data_train_cleaned = data_train.copy()\n",
    "data_test_cleaned = data_test.copy()"
   ]
  },
  {
   "cell_type": "code",
   "execution_count": 12,
   "metadata": {},
   "outputs": [],
   "source": [
    "geo_columns = ['start_lat', 'start_lon', 'end_lat', 'end_lon']"
   ]
  },
  {
   "cell_type": "code",
   "execution_count": 13,
   "metadata": {},
   "outputs": [],
   "source": [
    "for col in geo_columns:\n",
    "    if 'start' in col:\n",
    "        data_train_cleaned[col] = data_train_cleaned.groupby('start_station')[col].transform(lambda x: x.fillna(x.median()))\n",
    "        data_test_cleaned[col] = data_test_cleaned.groupby('start_station')[col].transform(lambda x: x.fillna(x.median()))\n",
    "    else:\n",
    "        data_train_cleaned[col] = data_train_cleaned.groupby('end_station')[col].transform(lambda x: x.fillna(x.median()))\n",
    "        data_test_cleaned[col] = data_test_cleaned.groupby('end_station')[col].transform(lambda x: x.fillna(x.median()))"
   ]
  },
  {
   "cell_type": "code",
   "execution_count": 14,
   "metadata": {},
   "outputs": [
    {
     "name": "stderr",
     "output_type": "stream",
     "text": [
      "/var/folders/sx/53qsrth94qs34_k0n9s4w_mh0000gn/T/ipykernel_42311/1047874757.py:2: FutureWarning: A value is trying to be set on a copy of a DataFrame or Series through chained assignment using an inplace method.\n",
      "The behavior will change in pandas 3.0. This inplace method will never work because the intermediate object on which we are setting values always behaves as a copy.\n",
      "\n",
      "For example, when doing 'df[col].method(value, inplace=True)', try using 'df.method({col: value}, inplace=True)' or df[col] = df[col].method(value) instead, to perform the operation inplace on the original object.\n",
      "\n",
      "\n",
      "  data_train_cleaned[col].fillna(data_train_cleaned[col].median(), inplace=True)\n",
      "/var/folders/sx/53qsrth94qs34_k0n9s4w_mh0000gn/T/ipykernel_42311/1047874757.py:3: FutureWarning: A value is trying to be set on a copy of a DataFrame or Series through chained assignment using an inplace method.\n",
      "The behavior will change in pandas 3.0. This inplace method will never work because the intermediate object on which we are setting values always behaves as a copy.\n",
      "\n",
      "For example, when doing 'df[col].method(value, inplace=True)', try using 'df.method({col: value}, inplace=True)' or df[col] = df[col].method(value) instead, to perform the operation inplace on the original object.\n",
      "\n",
      "\n",
      "  data_test_cleaned[col].fillna(data_test_cleaned[col].median(), inplace=True)\n"
     ]
    }
   ],
   "source": [
    "for col in geo_columns:\n",
    "    data_train_cleaned[col].fillna(data_train_cleaned[col].median(), inplace=True)\n",
    "    data_test_cleaned[col].fillna(data_test_cleaned[col].median(), inplace=True)\n"
   ]
  },
  {
   "cell_type": "code",
   "execution_count": 15,
   "metadata": {},
   "outputs": [
    {
     "data": {
      "text/plain": [
       "trip_id                   0\n",
       "duration                  0\n",
       "start_time                0\n",
       "end_time                  0\n",
       "start_lat                 0\n",
       "start_lon                 0\n",
       "end_lat                   0\n",
       "end_lon                   0\n",
       "bike_id                   0\n",
       "plan_duration           208\n",
       "trip_route_category       0\n",
       "passholder_type        2576\n",
       "start_station             0\n",
       "end_station               0\n",
       "dtype: int64"
      ]
     },
     "execution_count": 15,
     "metadata": {},
     "output_type": "execute_result"
    }
   ],
   "source": [
    "data_train_cleaned.isna().sum()"
   ]
  },
  {
   "cell_type": "code",
   "execution_count": 16,
   "metadata": {},
   "outputs": [
    {
     "data": {
      "text/plain": [
       "trip_id                0\n",
       "duration               0\n",
       "start_time             0\n",
       "end_time               0\n",
       "start_lat              0\n",
       "start_lon              0\n",
       "end_lat                0\n",
       "end_lon                0\n",
       "bike_id                0\n",
       "trip_route_category    0\n",
       "start_station          0\n",
       "end_station            0\n",
       "dtype: int64"
      ]
     },
     "execution_count": 16,
     "metadata": {},
     "output_type": "execute_result"
    }
   ],
   "source": [
    "data_test_cleaned.isna().sum()"
   ]
  },
  {
   "cell_type": "code",
   "execution_count": 17,
   "metadata": {},
   "outputs": [
    {
     "data": {
      "text/plain": [
       "count    700000.000000\n",
       "mean         37.084979\n",
       "std         125.302510\n",
       "min           1.000000\n",
       "25%           7.000000\n",
       "50%          13.000000\n",
       "75%          26.000000\n",
       "max        1440.000000\n",
       "Name: duration, dtype: float64"
      ]
     },
     "execution_count": 17,
     "metadata": {},
     "output_type": "execute_result"
    }
   ],
   "source": [
    "data_train_cleaned['duration'].describe()"
   ]
  },
  {
   "cell_type": "code",
   "execution_count": 18,
   "metadata": {},
   "outputs": [],
   "source": [
    "data_train_cleaned = data_train_cleaned.dropna(subset=['passholder_type'])"
   ]
  },
  {
   "cell_type": "markdown",
   "metadata": {},
   "source": [
    "### Haciendo feature engineering"
   ]
  },
  {
   "cell_type": "code",
   "execution_count": 19,
   "metadata": {},
   "outputs": [],
   "source": [
    "def feature_engineering(df):\n",
    "    \n",
    "    df['trip_duration_calculated'] = (df['end_time'] - df['start_time']).dt.total_seconds() / 60\n",
    "    df['is_weekend'] = df['start_time'].dt.weekday >= 5\n",
    "    \n",
    "    def haversine(lat1, lon1, lat2, lon2):\n",
    "        R = 6371.0  # Radio de la Tierra en kilómetros\n",
    "        lat1, lon1, lat2, lon2 = map(np.radians, [lat1, lon1, lat2, lon2])\n",
    "        dlat = lat2 - lat1\n",
    "        dlon = lon2 - lon1\n",
    "        a = np.sin(dlat / 2)**2 + np.cos(lat1) * np.cos(lat2) * np.sin(dlon / 2)**2\n",
    "        c = 2 * np.arctan2(np.sqrt(a), np.sqrt(1 - a))\n",
    "        return R * c\n",
    "    \n",
    "    df['distance'] = haversine(\n",
    "        df['start_lat'], df['start_lon'], df['end_lat'], df['end_lon']\n",
    "    )\n",
    "\n",
    "    df['start_hour'] = df['start_time'].dt.hour\n",
    "    bins = [0, 6, 12, 18, 24]\n",
    "    labels = ['Madrugada', 'Mañana', 'Tarde', 'Noche']\n",
    "    df['time_slot'] = pd.cut(df['start_hour'], bins=bins, labels=labels, right=False)\n",
    "\n",
    "    df['day_of_week'] = df['start_time'].dt.day_name()\n",
    "\n",
    "\n",
    "    return df"
   ]
  },
  {
   "cell_type": "code",
   "execution_count": 20,
   "metadata": {},
   "outputs": [],
   "source": [
    "data_train_cleaned = feature_engineering(data_train_cleaned)\n",
    "data_test_cleaned = feature_engineering(data_test_cleaned)"
   ]
  },
  {
   "cell_type": "code",
   "execution_count": 21,
   "metadata": {},
   "outputs": [
    {
     "data": {
      "text/plain": [
       "trip_id                              int64\n",
       "duration                             int64\n",
       "start_time                  datetime64[ns]\n",
       "end_time                    datetime64[ns]\n",
       "start_lat                          float64\n",
       "start_lon                          float64\n",
       "end_lat                            float64\n",
       "end_lon                            float64\n",
       "bike_id                             object\n",
       "plan_duration                      float64\n",
       "trip_route_category                 object\n",
       "passholder_type                     object\n",
       "start_station                        int64\n",
       "end_station                          int64\n",
       "trip_duration_calculated           float64\n",
       "is_weekend                            bool\n",
       "distance                           float64\n",
       "start_hour                           int32\n",
       "time_slot                         category\n",
       "day_of_week                         object\n",
       "dtype: object"
      ]
     },
     "execution_count": 21,
     "metadata": {},
     "output_type": "execute_result"
    }
   ],
   "source": [
    "data_train_cleaned.dtypes"
   ]
  },
  {
   "cell_type": "markdown",
   "metadata": {},
   "source": [
    "### Revisar datos sesgados o outliers"
   ]
  },
  {
   "cell_type": "code",
   "execution_count": 22,
   "metadata": {},
   "outputs": [],
   "source": [
    "def handle_outliers(df):\n",
    "     # Filtrar por límites IQR para trip_duration_calculated\n",
    "    q1_duration = df['trip_duration_calculated'].quantile(0.25)\n",
    "    q3_duration = df['trip_duration_calculated'].quantile(0.75)\n",
    "    iqr_duration = q3_duration - q1_duration\n",
    "    lower_bound_duration = q1_duration - 2 * iqr_duration\n",
    "    upper_bound_duration = q3_duration + 2 * iqr_duration\n",
    "    \n",
    "    # Filtrar por límites IQR para distance\n",
    "    q1_distance = df['distance'].quantile(0.25)\n",
    "    q3_distance = df['distance'].quantile(0.75)\n",
    "    iqr_distance = q3_distance - q1_distance\n",
    "    lower_bound_distance = q1_distance - 2 * iqr_distance\n",
    "    upper_bound_distance = q3_distance + 2 * iqr_distance\n",
    "\n",
    "    # Aplicar filtros\n",
    "    df = df[\n",
    "        (df['trip_duration_calculated'] >= lower_bound_duration) & \n",
    "        (df['trip_duration_calculated'] <= upper_bound_duration) & \n",
    "        (df['distance'] >= lower_bound_distance) & \n",
    "        (df['distance'] <= upper_bound_distance)\n",
    "    ]\n",
    "    return df"
   ]
  },
  {
   "cell_type": "code",
   "execution_count": 23,
   "metadata": {},
   "outputs": [],
   "source": [
    "data_train_cleaned = handle_outliers(data_train_cleaned)"
   ]
  },
  {
   "cell_type": "code",
   "execution_count": 24,
   "metadata": {},
   "outputs": [
    {
     "data": {
      "text/plain": [
       "(614884, 20)"
      ]
     },
     "execution_count": 24,
     "metadata": {},
     "output_type": "execute_result"
    }
   ],
   "source": [
    "data_train_cleaned.shape"
   ]
  },
  {
   "cell_type": "code",
   "execution_count": 25,
   "metadata": {},
   "outputs": [
    {
     "data": {
      "text/plain": [
       "trip_id                       0\n",
       "duration                      0\n",
       "start_time                    0\n",
       "end_time                      0\n",
       "start_lat                     0\n",
       "start_lon                     0\n",
       "end_lat                       0\n",
       "end_lon                       0\n",
       "bike_id                       0\n",
       "plan_duration               175\n",
       "trip_route_category           0\n",
       "passholder_type               0\n",
       "start_station                 0\n",
       "end_station                   0\n",
       "trip_duration_calculated      0\n",
       "is_weekend                    0\n",
       "distance                      0\n",
       "start_hour                    0\n",
       "time_slot                     0\n",
       "day_of_week                   0\n",
       "dtype: int64"
      ]
     },
     "execution_count": 25,
     "metadata": {},
     "output_type": "execute_result"
    }
   ],
   "source": [
    "data_train_cleaned.isna().sum()"
   ]
  },
  {
   "cell_type": "code",
   "execution_count": 26,
   "metadata": {},
   "outputs": [
    {
     "data": {
      "text/plain": [
       "passholder_type\n",
       "Monthly Pass    378671\n",
       "Walk-up         164302\n",
       "Annual Pass      32080\n",
       "One Day Pass     28568\n",
       "Flex Pass        11208\n",
       "Testing             55\n",
       "Name: count, dtype: int64"
      ]
     },
     "execution_count": 26,
     "metadata": {},
     "output_type": "execute_result"
    }
   ],
   "source": [
    "data_train_cleaned['passholder_type'].value_counts()"
   ]
  },
  {
   "cell_type": "markdown",
   "metadata": {},
   "source": [
    "### Modelo multiclass"
   ]
  },
  {
   "cell_type": "code",
   "execution_count": 27,
   "metadata": {},
   "outputs": [],
   "source": [
    "from sklearn.model_selection import train_test_split, cross_val_score, KFold\n",
    "from sklearn.ensemble import RandomForestClassifier\n",
    "from sklearn.metrics import classification_report, confusion_matrix, accuracy_score\n",
    "from sklearn.preprocessing import LabelEncoder, OneHotEncoder\n",
    "from imblearn.over_sampling import SMOTE\n",
    "from sklearn.feature_selection import SelectFromModel, RFECV"
   ]
  },
  {
   "cell_type": "code",
   "execution_count": 28,
   "metadata": {},
   "outputs": [],
   "source": [
    "le = LabelEncoder()\n",
    "data_train_cleaned['passholder_type_encoded'] = le.fit_transform(data_train_cleaned['passholder_type'])"
   ]
  },
  {
   "cell_type": "code",
   "execution_count": 29,
   "metadata": {},
   "outputs": [],
   "source": [
    "encoder = OneHotEncoder()\n",
    "encoded_days_train = encoder.fit_transform(data_train_cleaned[['day_of_week', 'time_slot']]).toarray()\n",
    "encoded_days_test = encoder.transform(data_test_cleaned[['day_of_week', 'time_slot']]).toarray()"
   ]
  },
  {
   "cell_type": "code",
   "execution_count": 30,
   "metadata": {},
   "outputs": [],
   "source": [
    "from sklearn.preprocessing import LabelEncoder\n",
    "le_trip_route = LabelEncoder()\n",
    "data_train_cleaned['trip_route_category_encoded'] = le_trip_route.fit_transform(data_train_cleaned['trip_route_category'])\n",
    "data_test_cleaned['trip_route_category_encoded'] = le_trip_route.transform(data_test_cleaned['trip_route_category'])"
   ]
  },
  {
   "cell_type": "code",
   "execution_count": 31,
   "metadata": {},
   "outputs": [],
   "source": [
    "encoded_columns = encoder.get_feature_names_out(['day_of_week', 'time_slot'])\n",
    "data_train_cleaned = pd.concat([data_train_cleaned, pd.DataFrame(encoded_days_train, columns=encoded_columns, index=data_train_cleaned.index)], axis=1)\n",
    "data_test_cleaned = pd.concat([data_test_cleaned, pd.DataFrame(encoded_days_test, columns=encoded_columns, index=data_test_cleaned.index)], axis=1)"
   ]
  },
  {
   "cell_type": "code",
   "execution_count": 32,
   "metadata": {},
   "outputs": [],
   "source": [
    "features = ['trip_duration_calculated', 'start_hour', 'distance', 'is_weekend'] + list(encoded_columns) + ['trip_route_category_encoded']"
   ]
  },
  {
   "cell_type": "code",
   "execution_count": 33,
   "metadata": {},
   "outputs": [],
   "source": [
    "X_train = data_train_cleaned[features]\n",
    "y_train = data_train_cleaned['passholder_type_encoded']\n",
    "X_test = data_test_cleaned[features]"
   ]
  },
  {
   "cell_type": "code",
   "execution_count": 34,
   "metadata": {},
   "outputs": [],
   "source": [
    "#from sklearn.feature_selection import SelectFromModel, RFECV"
   ]
  },
  {
   "cell_type": "code",
   "execution_count": 35,
   "metadata": {},
   "outputs": [],
   "source": [
    "# def select_features_with_rf(X, y):\n",
    "#     model = RandomForestClassifier(random_state=42)\n",
    "#     model.fit(X, y)\n",
    "#     selector = SelectFromModel(model, prefit=True, threshold='mean')  # Selecciona características por encima del promedio\n",
    "#     selected_features = X.columns[selector.get_support()]\n",
    "#     print(f\"Características seleccionadas: {selected_features.tolist()}\")\n",
    "#     return X[selected_features], selected_features"
   ]
  },
  {
   "cell_type": "code",
   "execution_count": 36,
   "metadata": {},
   "outputs": [],
   "source": [
    "smote = SMOTE(random_state=42)\n",
    "X_train_smote, y_train_smote = smote.fit_resample(X_train, y_train)"
   ]
  },
  {
   "cell_type": "code",
   "execution_count": 37,
   "metadata": {},
   "outputs": [
    {
     "name": "stderr",
     "output_type": "stream",
     "text": [
      "/opt/homebrew/anaconda3/envs/test_env/lib/python3.12/site-packages/sklearn/base.py:486: UserWarning: X has feature names, but SelectFromModel was fitted without feature names\n",
      "  warnings.warn(\n",
      "/opt/homebrew/anaconda3/envs/test_env/lib/python3.12/site-packages/sklearn/base.py:486: UserWarning: X has feature names, but SelectFromModel was fitted without feature names\n",
      "  warnings.warn(\n"
     ]
    }
   ],
   "source": [
    "# 6. Selección de características parsimoniosas\n",
    "model_temp = RandomForestClassifier(random_state=42)\n",
    "model_temp.fit(X_train_smote, y_train_smote)\n",
    "selector = SelectFromModel(model_temp, prefit=True, threshold=\"mean\")\n",
    "selected_features = X_train.columns[selector.get_support()]\n",
    "X_train_smote_selected = selector.transform(X_train_smote)\n",
    "X_test_selected = selector.transform(X_test)"
   ]
  },
  {
   "cell_type": "code",
   "execution_count": 38,
   "metadata": {},
   "outputs": [
    {
     "name": "stdout",
     "output_type": "stream",
     "text": [
      "Características seleccionadas: ['trip_duration_calculated', 'distance']\n"
     ]
    }
   ],
   "source": [
    "print(f\"Características seleccionadas: {selected_features.tolist()}\")"
   ]
  },
  {
   "cell_type": "markdown",
   "metadata": {},
   "source": [
    "### Random Forest"
   ]
  },
  {
   "cell_type": "code",
   "execution_count": 39,
   "metadata": {},
   "outputs": [],
   "source": [
    "#model = RandomForestClassifier(random_state=42)\n",
    "model = RandomForestClassifier(\n",
    "    random_state=42,\n",
    "    n_estimators=100,\n",
    "    max_depth=10,\n",
    "    min_samples_split=10,\n",
    "    min_samples_leaf=5,\n",
    "    class_weight='balanced'\n",
    ")\n",
    "#model.fit(X_train_smote, y_train_smote)"
   ]
  },
  {
   "cell_type": "code",
   "execution_count": 40,
   "metadata": {},
   "outputs": [],
   "source": [
    "# kf = KFold(n_splits=5, shuffle=True, random_state=42)\n",
    "# cv_scores = cross_val_score(model, X_train_smote, y_train_smote, cv=kf, scoring='accuracy')\n",
    "# print(f\"Accuracy promedio en Cross-Validation: {np.mean(cv_scores):.4f} ± {np.std(cv_scores):.4f}\")\n",
    "\n",
    "#model.fit(X_train_smote, y_train_smote)\n",
    "\n",
    "# X_train_split, X_val_split, y_train_split, y_val_split = train_test_split(\n",
    "#     X_train, y_train, test_size=0.2, random_state=42, stratify=y_train\n",
    "# )\n",
    "\n",
    "# model.fit(X_train_split, y_train_split)\n",
    "# y_pred_split = model.predict(X_val_split)"
   ]
  },
  {
   "cell_type": "code",
   "execution_count": 41,
   "metadata": {},
   "outputs": [
    {
     "name": "stdout",
     "output_type": "stream",
     "text": [
      "Accuracy promedio en Cross-Validation: 0.4708 ± 0.0008\n"
     ]
    },
    {
     "name": "stderr",
     "output_type": "stream",
     "text": [
      "/opt/homebrew/anaconda3/envs/test_env/lib/python3.12/site-packages/sklearn/base.py:486: UserWarning: X has feature names, but SelectFromModel was fitted without feature names\n",
      "  warnings.warn(\n"
     ]
    }
   ],
   "source": [
    "model = RandomForestClassifier(\n",
    "    random_state=42,\n",
    "    n_estimators=100,\n",
    "    max_depth=10,\n",
    "    min_samples_split=10,\n",
    "    min_samples_leaf=5,\n",
    "    class_weight='balanced'\n",
    ")\n",
    "\n",
    "kf = KFold(n_splits=5, shuffle=True, random_state=42)\n",
    "cv_scores = cross_val_score(model, X_train_smote_selected, y_train_smote, cv=kf, scoring='accuracy')\n",
    "print(f\"Accuracy promedio en Cross-Validation: {np.mean(cv_scores):.4f} ± {np.std(cv_scores):.4f}\")\n",
    "\n",
    "# Entrenar modelo final\n",
    "model.fit(X_train_smote_selected, y_train_smote)\n",
    "\n",
    "# 8. Validación interna\n",
    "X_train_split, X_val_split, y_train_split, y_val_split = train_test_split(\n",
    "    X_train, y_train, test_size=0.2, random_state=42, stratify=y_train\n",
    ")\n",
    "X_val_split_selected = selector.transform(X_val_split)\n",
    "y_val_pred = model.predict(X_val_split_selected)"
   ]
  },
  {
   "cell_type": "code",
   "execution_count": 42,
   "metadata": {},
   "outputs": [
    {
     "name": "stdout",
     "output_type": "stream",
     "text": [
      "Accuracy en validación interna: 0.21344641680964732\n",
      "Classification Report:\n",
      "               precision    recall  f1-score   support\n",
      "\n",
      " Annual Pass       0.12      0.43      0.18      6416\n",
      "   Flex Pass       0.03      0.55      0.06      2242\n",
      "Monthly Pass       0.83      0.12      0.22     75734\n",
      "One Day Pass       0.09      0.45      0.15      5714\n",
      "     Testing       0.00      0.82      0.00        11\n",
      "     Walk-up       0.61      0.31      0.42     32860\n",
      "\n",
      "    accuracy                           0.21    122977\n",
      "   macro avg       0.28      0.45      0.17    122977\n",
      "weighted avg       0.69      0.21      0.26    122977\n",
      "\n"
     ]
    }
   ],
   "source": [
    "print(\"Accuracy en validación interna:\", accuracy_score(y_val_split, y_val_pred))\n",
    "print(\"Classification Report:\\n\", classification_report(y_val_split, y_val_pred, target_names=le.classes_))"
   ]
  },
  {
   "cell_type": "code",
   "execution_count": 43,
   "metadata": {},
   "outputs": [
    {
     "data": {
      "image/png": "[encoded data removed]",
      "text/plain": [
       "<Figure size 640x480 with 2 Axes>"
      ]
     },
     "metadata": {},
     "output_type": "display_data"
    }
   ],
   "source": [
    "conf_matrix = confusion_matrix(y_val_split, y_val_pred)\n",
    "sns.heatmap(conf_matrix, annot=True, fmt='d', xticklabels=le.classes_, yticklabels=le.classes_)\n",
    "plt.xlabel('Predicted')\n",
    "plt.ylabel('Actual')\n",
    "plt.title('Confusion Matrix')\n",
    "plt.show()"
   ]
  },
  {
   "cell_type": "code",
   "execution_count": 44,
   "metadata": {},
   "outputs": [],
   "source": [
    "y_test_pred = model.predict(X_test_selected)\n",
    "data_test_cleaned['predicted_passholder_type'] = le.inverse_transform(y_test_pred)"
   ]
  },
  {
   "cell_type": "code",
   "execution_count": 45,
   "metadata": {},
   "outputs": [
    {
     "name": "stdout",
     "output_type": "stream",
     "text": [
      "    trip_id predicted_passholder_type\n",
      "0  17059130                   Walk-up\n",
      "1  17059129              One Day Pass\n",
      "2  17059126              One Day Pass\n",
      "3  17059125                 Flex Pass\n",
      "4  17061379                   Walk-up\n"
     ]
    }
   ],
   "source": [
    "print(data_test_cleaned[['trip_id', 'predicted_passholder_type']].head())"
   ]
  },
  {
   "cell_type": "code",
   "execution_count": 46,
   "metadata": {},
   "outputs": [
    {
     "data": {
      "text/plain": [
       "predicted_passholder_type\n",
       "Flex Pass       153725\n",
       "One Day Pass    136791\n",
       "Walk-up         109228\n",
       "Annual Pass      99449\n",
       "Monthly Pass     49030\n",
       "Testing          21663\n",
       "Name: count, dtype: int64"
      ]
     },
     "execution_count": 46,
     "metadata": {},
     "output_type": "execute_result"
    }
   ],
   "source": [
    "data_test_cleaned['predicted_passholder_type'].value_counts()"
   ]
  },
  {
   "cell_type": "code",
   "execution_count": 47,
   "metadata": {},
   "outputs": [
    {
     "ename": "ValueError",
     "evalue": "All arrays must be of the same length",
     "output_type": "error",
     "traceback": [
      "\u001b[0;31m---------------------------------------------------------------------------\u001b[0m",
      "\u001b[0;31mValueError\u001b[0m                                Traceback (most recent call last)",
      "Cell \u001b[0;32mIn[47], line 5\u001b[0m\n\u001b[1;32m      2\u001b[0m importances \u001b[38;5;241m=\u001b[39m model\u001b[38;5;241m.\u001b[39mfeature_importances_\n\u001b[1;32m      4\u001b[0m \u001b[38;5;66;03m# Crear un DataFrame para ordenar y mostrar\u001b[39;00m\n\u001b[0;32m----> 5\u001b[0m feature_importance_df \u001b[38;5;241m=\u001b[39m pd\u001b[38;5;241m.\u001b[39mDataFrame({\n\u001b[1;32m      6\u001b[0m     \u001b[38;5;124m'\u001b[39m\u001b[38;5;124mFeature\u001b[39m\u001b[38;5;124m'\u001b[39m: features,\n\u001b[1;32m      7\u001b[0m     \u001b[38;5;124m'\u001b[39m\u001b[38;5;124mImportance\u001b[39m\u001b[38;5;124m'\u001b[39m: importances\n\u001b[1;32m      8\u001b[0m })\u001b[38;5;241m.\u001b[39msort_values(by\u001b[38;5;241m=\u001b[39m\u001b[38;5;124m'\u001b[39m\u001b[38;5;124mImportance\u001b[39m\u001b[38;5;124m'\u001b[39m, ascending\u001b[38;5;241m=\u001b[39m\u001b[38;5;28;01mFalse\u001b[39;00m)\n\u001b[1;32m     10\u001b[0m \u001b[38;5;66;03m# Mostrar las principales características\u001b[39;00m\n\u001b[1;32m     11\u001b[0m \u001b[38;5;28mprint\u001b[39m(\u001b[38;5;124m\"\u001b[39m\u001b[38;5;124mImportancia de características:\u001b[39m\u001b[38;5;124m\"\u001b[39m)\n",
      "File \u001b[0;32m/opt/homebrew/anaconda3/envs/test_env/lib/python3.12/site-packages/pandas/core/frame.py:778\u001b[0m, in \u001b[0;36mDataFrame.__init__\u001b[0;34m(self, data, index, columns, dtype, copy)\u001b[0m\n\u001b[1;32m    772\u001b[0m     mgr \u001b[38;5;241m=\u001b[39m \u001b[38;5;28mself\u001b[39m\u001b[38;5;241m.\u001b[39m_init_mgr(\n\u001b[1;32m    773\u001b[0m         data, axes\u001b[38;5;241m=\u001b[39m{\u001b[38;5;124m\"\u001b[39m\u001b[38;5;124mindex\u001b[39m\u001b[38;5;124m\"\u001b[39m: index, \u001b[38;5;124m\"\u001b[39m\u001b[38;5;124mcolumns\u001b[39m\u001b[38;5;124m\"\u001b[39m: columns}, dtype\u001b[38;5;241m=\u001b[39mdtype, copy\u001b[38;5;241m=\u001b[39mcopy\n\u001b[1;32m    774\u001b[0m     )\n\u001b[1;32m    776\u001b[0m \u001b[38;5;28;01melif\u001b[39;00m \u001b[38;5;28misinstance\u001b[39m(data, \u001b[38;5;28mdict\u001b[39m):\n\u001b[1;32m    777\u001b[0m     \u001b[38;5;66;03m# GH#38939 de facto copy defaults to False only in non-dict cases\u001b[39;00m\n\u001b[0;32m--> 778\u001b[0m     mgr \u001b[38;5;241m=\u001b[39m dict_to_mgr(data, index, columns, dtype\u001b[38;5;241m=\u001b[39mdtype, copy\u001b[38;5;241m=\u001b[39mcopy, typ\u001b[38;5;241m=\u001b[39mmanager)\n\u001b[1;32m    779\u001b[0m \u001b[38;5;28;01melif\u001b[39;00m \u001b[38;5;28misinstance\u001b[39m(data, ma\u001b[38;5;241m.\u001b[39mMaskedArray):\n\u001b[1;32m    780\u001b[0m     \u001b[38;5;28;01mfrom\u001b[39;00m \u001b[38;5;21;01mnumpy\u001b[39;00m\u001b[38;5;21;01m.\u001b[39;00m\u001b[38;5;21;01mma\u001b[39;00m \u001b[38;5;28;01mimport\u001b[39;00m mrecords\n",
      "File \u001b[0;32m/opt/homebrew/anaconda3/envs/test_env/lib/python3.12/site-packages/pandas/core/internals/construction.py:503\u001b[0m, in \u001b[0;36mdict_to_mgr\u001b[0;34m(data, index, columns, dtype, typ, copy)\u001b[0m\n\u001b[1;32m    499\u001b[0m     \u001b[38;5;28;01melse\u001b[39;00m:\n\u001b[1;32m    500\u001b[0m         \u001b[38;5;66;03m# dtype check to exclude e.g. range objects, scalars\u001b[39;00m\n\u001b[1;32m    501\u001b[0m         arrays \u001b[38;5;241m=\u001b[39m [x\u001b[38;5;241m.\u001b[39mcopy() \u001b[38;5;28;01mif\u001b[39;00m \u001b[38;5;28mhasattr\u001b[39m(x, \u001b[38;5;124m\"\u001b[39m\u001b[38;5;124mdtype\u001b[39m\u001b[38;5;124m\"\u001b[39m) \u001b[38;5;28;01melse\u001b[39;00m x \u001b[38;5;28;01mfor\u001b[39;00m x \u001b[38;5;129;01min\u001b[39;00m arrays]\n\u001b[0;32m--> 503\u001b[0m \u001b[38;5;28;01mreturn\u001b[39;00m arrays_to_mgr(arrays, columns, index, dtype\u001b[38;5;241m=\u001b[39mdtype, typ\u001b[38;5;241m=\u001b[39mtyp, consolidate\u001b[38;5;241m=\u001b[39mcopy)\n",
      "File \u001b[0;32m/opt/homebrew/anaconda3/envs/test_env/lib/python3.12/site-packages/pandas/core/internals/construction.py:114\u001b[0m, in \u001b[0;36marrays_to_mgr\u001b[0;34m(arrays, columns, index, dtype, verify_integrity, typ, consolidate)\u001b[0m\n\u001b[1;32m    111\u001b[0m \u001b[38;5;28;01mif\u001b[39;00m verify_integrity:\n\u001b[1;32m    112\u001b[0m     \u001b[38;5;66;03m# figure out the index, if necessary\u001b[39;00m\n\u001b[1;32m    113\u001b[0m     \u001b[38;5;28;01mif\u001b[39;00m index \u001b[38;5;129;01mis\u001b[39;00m \u001b[38;5;28;01mNone\u001b[39;00m:\n\u001b[0;32m--> 114\u001b[0m         index \u001b[38;5;241m=\u001b[39m _extract_index(arrays)\n\u001b[1;32m    115\u001b[0m     \u001b[38;5;28;01melse\u001b[39;00m:\n\u001b[1;32m    116\u001b[0m         index \u001b[38;5;241m=\u001b[39m ensure_index(index)\n",
      "File \u001b[0;32m/opt/homebrew/anaconda3/envs/test_env/lib/python3.12/site-packages/pandas/core/internals/construction.py:677\u001b[0m, in \u001b[0;36m_extract_index\u001b[0;34m(data)\u001b[0m\n\u001b[1;32m    675\u001b[0m lengths \u001b[38;5;241m=\u001b[39m \u001b[38;5;28mlist\u001b[39m(\u001b[38;5;28mset\u001b[39m(raw_lengths))\n\u001b[1;32m    676\u001b[0m \u001b[38;5;28;01mif\u001b[39;00m \u001b[38;5;28mlen\u001b[39m(lengths) \u001b[38;5;241m>\u001b[39m \u001b[38;5;241m1\u001b[39m:\n\u001b[0;32m--> 677\u001b[0m     \u001b[38;5;28;01mraise\u001b[39;00m \u001b[38;5;167;01mValueError\u001b[39;00m(\u001b[38;5;124m\"\u001b[39m\u001b[38;5;124mAll arrays must be of the same length\u001b[39m\u001b[38;5;124m\"\u001b[39m)\n\u001b[1;32m    679\u001b[0m \u001b[38;5;28;01mif\u001b[39;00m have_dicts:\n\u001b[1;32m    680\u001b[0m     \u001b[38;5;28;01mraise\u001b[39;00m \u001b[38;5;167;01mValueError\u001b[39;00m(\n\u001b[1;32m    681\u001b[0m         \u001b[38;5;124m\"\u001b[39m\u001b[38;5;124mMixing dicts with non-Series may lead to ambiguous ordering.\u001b[39m\u001b[38;5;124m\"\u001b[39m\n\u001b[1;32m    682\u001b[0m     )\n",
      "\u001b[0;31mValueError\u001b[0m: All arrays must be of the same length"
     ]
    }
   ],
   "source": [
    "# Extraer importancia de características del modelo\n",
    "importances = model.feature_importances_\n",
    "\n",
    "# Crear un DataFrame para ordenar y mostrar\n",
    "feature_importance_df = pd.DataFrame({\n",
    "    'Feature': features,\n",
    "    'Importance': importances\n",
    "}).sort_values(by='Importance', ascending=False)\n",
    "\n",
    "# Mostrar las principales características\n",
    "print(\"Importancia de características:\")\n",
    "print(feature_importance_df)\n",
    "\n",
    "# Visualizar con un gráfico de barras\n",
    "plt.figure(figsize=(10, 6))\n",
    "plt.barh(feature_importance_df['Feature'], feature_importance_df['Importance'], align='center')\n",
    "plt.xlabel('Importancia')\n",
    "plt.ylabel('Características')\n",
    "plt.title('Importancia de Características')\n",
    "plt.gca().invert_yaxis()  # Invertir para mostrar la más importante arriba\n",
    "plt.show()"
   ]
  },
  {
   "cell_type": "code",
   "execution_count": 47,
   "metadata": {},
   "outputs": [],
   "source": [
    "# def select_features(X, y):\n",
    "#     #Modelo base para selección de características\n",
    "#     model = RandomForestClassifier(random_state=42)\n",
    "#     model.fit(X, y)\n",
    "    \n",
    "#     #Seleccionar características con importancia promedio\n",
    "#     selector = SelectFromModel(model, prefit=True, threshold=\"mean\")\n",
    "#     selected_features = X.columns[selector.get_support()]\n",
    "#     X_selected = selector.transform(X)\n",
    "    \n",
    "#     print(f\"Características seleccionadas: {list(selected_features)}\")\n",
    "#     return X_selected, selected_features"
   ]
  },
  {
   "cell_type": "code",
   "execution_count": 48,
   "metadata": {},
   "outputs": [],
   "source": [
    "#X_train_smote_selected, selected_features = select_features(X_train_smote, y_train_smote)"
   ]
  },
  {
   "cell_type": "code",
   "execution_count": 49,
   "metadata": {},
   "outputs": [],
   "source": [
    "#selected_features"
   ]
  },
  {
   "cell_type": "code",
   "execution_count": 50,
   "metadata": {},
   "outputs": [],
   "source": [
    "#data_train_cleaned['trip_route_category'].value_counts()"
   ]
  },
  {
   "cell_type": "code",
   "execution_count": 51,
   "metadata": {},
   "outputs": [],
   "source": [
    "#data_test_cleaned['trip_route_category'].value_counts()"
   ]
  },
  {
   "cell_type": "code",
   "execution_count": null,
   "metadata": {},
   "outputs": [],
   "source": []
  }
 ],
 "metadata": {
  "kernelspec": {
   "display_name": "test_env",
   "language": "python",
   "name": "test_env"
  },
  "language_info": {
   "codemirror_mode": {
    "name": "ipython",
    "version": 3
   },
   "file_extension": ".py",
   "mimetype": "text/x-python",
   "name": "python",
   "nbconvert_exporter": "python",
   "pygments_lexer": "ipython3",
   "version": "3.12.7"
  }
 },
 "nbformat": 4,
 "nbformat_minor": 2
}
